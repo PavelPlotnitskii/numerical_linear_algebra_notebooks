{
 "cells": [
  {
   "cell_type": "code",
   "execution_count": 1,
   "metadata": {
    "collapsed": false
   },
   "outputs": [],
   "source": [
    "%matplotlib inline\n",
    "import numpy as np\n",
    "import scipy.sparse\n",
    "import matplotlib.pyplot as plt"
   ]
  },
  {
   "cell_type": "markdown",
   "metadata": {},
   "source": [
    "# The 5-point Laplacian\n",
    "The function below sets up a matrix that approximates the Laplacian operator in two dimensions:\n",
    "\n",
    "\\begin{align}\n",
    "\\nabla^2 u = u_{xx} + u_{yy}.\n",
    "\\end{align}\n",
    "\n",
    "The formula for the finite difference approximation is\n",
    "\n",
    "\\begin{align}\n",
    "\\nabla^2 u(x_i,y_j) \\approx \\frac{U_{i+1,j} + U_{i-1,j} + U_{i,j+1} + U_{i,j-1} - 4 U_{ij}}{h^2} = AU.\n",
    "\\end{align}\n",
    "\n",
    "Here we construct the matrix $A$, assuming that $U$ is order row-wise.  The constant $h$ is the grid spacing (which is assumed to be the same in the $x$ and $y$ directions).  The domain is assumed to be the square $[a,b]^2$ and it is discretized using $m$ points (not counting boundary values) in each direction."
   ]
  },
  {
   "cell_type": "code",
   "execution_count": 2,
   "metadata": {
    "collapsed": false
   },
   "outputs": [],
   "source": [
    "def five_pt_laplacian_sparse(m,a,b):\n",
    "    \"\"\"Construct a sparse finite difference matrix that approximates the Laplacian.\"\"\"\n",
    "    e=np.ones(m**2)\n",
    "    e2=([1]*(m-1)+[0])*m\n",
    "    e3=([0]+[1]*(m-1))*m\n",
    "    h=(b-a)/(m+1)\n",
    "    A=scipy.sparse.spdiags([-4*e,e2,e3,e,e],[0,-1,1,-m,m],m**2,m**2)\n",
    "    A/=h**2\n",
    "    A = A.todia()\n",
    "    return A"
   ]
  },
  {
   "cell_type": "markdown",
   "metadata": {},
   "source": [
    "In general, this matrix has the following form:\n",
    "\n",
    "\\begin{align}\n",
    "  A = \\frac{1}{h^2}\\begin{bmatrix} T & I & & & \\\\ I & T & I & & \\\\ & I & T & I & \\\\ & & \\ddots & \\ddots & \\ddots \\\\ & & & I & T\n",
    "  \\end{bmatrix}\n",
    "\\end{align}\n",
    "\n",
    "where $I$ is the $m \\times m$ identity matrix and $T$ is a tridiagonal $m\\times m$ matrix:\n",
    "\n",
    "\\begin{align}\n",
    "  T = \\begin{bmatrix} -4 & 1 & & & \\\\ 1 & -4 & 1 & & \\\\ & 1 & -4 & 1 & \\\\ & & \\ddots & \\ddots & \\ddots \\\\ & & & 1 & -4\n",
    "  \\end{bmatrix}\n",
    "\\end{align}"
   ]
  },
  {
   "cell_type": "markdown",
   "metadata": {},
   "source": [
    "This structure can be seen using the `spy` function, which shows where the nonzero entries are:"
   ]
  },
  {
   "cell_type": "code",
   "execution_count": 4,
   "metadata": {
    "collapsed": false
   },
   "outputs": [
    {
     "data": {
      "text/plain": [
       "<matplotlib.lines.Line2D at 0x108e50050>"
      ]
     },
     "execution_count": 4,
     "metadata": {},
     "output_type": "execute_result"
    },
    {
     "data": {
      "image/png": "[encoded data removed]",
      "text/plain": [
       "<matplotlib.figure.Figure at 0x108d61dd0>"
      ]
     },
     "metadata": {},
     "output_type": "display_data"
    }
   ],
   "source": [
    "A = five_pt_laplacian_sparse(4,-1.,1.)\n",
    "plt.spy(A)"
   ]
  }
 ],
 "metadata": {
  "kernelspec": {
   "display_name": "Python 2",
   "language": "python",
   "name": "python2"
  },
  "language_info": {
   "codemirror_mode": {
    "name": "ipython",
    "version": 2
   },
   "file_extension": ".py",
   "mimetype": "text/x-python",
   "name": "python",
   "nbconvert_exporter": "python",
   "pygments_lexer": "ipython2",
   "version": "2.7.9"
  }
 },
 "nbformat": 4,
 "nbformat_minor": 0
}
