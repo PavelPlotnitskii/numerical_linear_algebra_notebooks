{
 "metadata": {
  "name": "",
  "signature": "sha256:7d225ac1bfe85fa312e16472098046b4ef1a72def5dbc9dbc4cbf1d376c96e60"
 },
 "nbformat": 3,
 "nbformat_minor": 0,
 "worksheets": [
  {
   "cells": [
    {
     "cell_type": "code",
     "collapsed": false,
     "input": [
      "import numpy as np\n",
      "%matplotlib inline\n",
      "import matplotlib.pyplot as plt"
     ],
     "language": "python",
     "metadata": {},
     "outputs": []
    },
    {
     "cell_type": "heading",
     "level": 1,
     "metadata": {},
     "source": [
      "Power iteration"
     ]
    },
    {
     "cell_type": "code",
     "collapsed": false,
     "input": [
      "def power_iteration(A,v0,niter=5):\n",
      "    v = v0\n",
      "    vv = [v0]\n",
      "    ll = [np.dot(v0,np.dot(A,v0))]\n",
      "    for k in range(niter):\n",
      "        w = np.dot(A,v)\n",
      "        v = w/np.linalg.norm(w)\n",
      "        lamda = np.dot(v,np.dot(A,v))\n",
      "        vv.append(v)\n",
      "        ll.append(lamda)\n",
      "    return ll, vv"
     ],
     "language": "python",
     "metadata": {},
     "outputs": []
    },
    {
     "cell_type": "heading",
     "level": 1,
     "metadata": {},
     "source": [
      "Inverse iteration"
     ]
    },
    {
     "cell_type": "code",
     "collapsed": false,
     "input": [
      "def inverse_iteration(A,v0,mu,niter=5):\n",
      "    v = v0\n",
      "    I = np.eye(len(v0))\n",
      "    vv = [v0]\n",
      "    ll = [np.dot(v0,np.dot(A,v0))]\n",
      "    for k in range(niter):\n",
      "        w = np.linalg.solve(A-mu*I,v)\n",
      "        v = w/np.linalg.norm(w)\n",
      "        lamda = np.dot(v,np.dot(A,v))\n",
      "        vv.append(v)\n",
      "        ll.append(lamda)\n",
      "    return ll, vv"
     ],
     "language": "python",
     "metadata": {},
     "outputs": []
    },
    {
     "cell_type": "heading",
     "level": 1,
     "metadata": {},
     "source": [
      "Rayleigh Quotient Iteration"
     ]
    },
    {
     "cell_type": "code",
     "collapsed": false,
     "input": [
      "def rayleigh_quotient_iteration(A,v0,niter=5):\n",
      "    v = v0\n",
      "    I = np.eye(len(v0))\n",
      "    lamda = np.dot(v0,np.dot(A,v0))/np.linalg.norm(v0)\n",
      "    vv = [v0]\n",
      "    ll = [np.dot(v0,np.dot(A,v0))/np.linalg.norm(v0)]\n",
      "    for k in range(niter):\n",
      "        w = np.linalg.solve(A-lamda*I,v)\n",
      "        v = w/np.linalg.norm(w)\n",
      "        lamda = np.dot(v,np.dot(A,v))\n",
      "        vv.append(v)\n",
      "        ll.append(lamda)\n",
      "    return ll, vv"
     ],
     "language": "python",
     "metadata": {},
     "outputs": []
    },
    {
     "cell_type": "heading",
     "level": 1,
     "metadata": {},
     "source": [
      "Examples"
     ]
    },
    {
     "cell_type": "markdown",
     "metadata": {},
     "source": [
      "First, let's try a symmetric matrix."
     ]
    },
    {
     "cell_type": "code",
     "collapsed": false,
     "input": [
      "A = np.array([[2.,1,1],[1,3,1],[1,1,4]])\n",
      "print np.linalg.eigvals(A)\n",
      "lam = np.linalg.eigvals(A)[0]"
     ],
     "language": "python",
     "metadata": {},
     "outputs": []
    },
    {
     "cell_type": "code",
     "collapsed": false,
     "input": [
      "ll, vv = power_iteration(A,np.ones(3))\n",
      "plt.plot(ll)"
     ],
     "language": "python",
     "metadata": {},
     "outputs": []
    },
    {
     "cell_type": "code",
     "collapsed": false,
     "input": [
      "plt.semilogy(np.abs(ll-lam))"
     ],
     "language": "python",
     "metadata": {},
     "outputs": []
    },
    {
     "cell_type": "code",
     "collapsed": false,
     "input": [
      "mu=5\n",
      "ll, vv = inverse_iteration(A,np.ones(3),mu)\n",
      "plt.semilogy(np.abs(ll-lam))"
     ],
     "language": "python",
     "metadata": {},
     "outputs": []
    },
    {
     "cell_type": "code",
     "collapsed": false,
     "input": [
      "ll, vv = rayleigh_quotient_iteration(A,np.ones(3))\n",
      "plt.semilogy(np.abs(ll-lam))"
     ],
     "language": "python",
     "metadata": {},
     "outputs": []
    },
    {
     "cell_type": "markdown",
     "metadata": {},
     "source": [
      "Here's a comparison of all three methods."
     ]
    },
    {
     "cell_type": "code",
     "collapsed": false,
     "input": [
      "ll1, vv = power_iteration(A,np.ones(3))\n",
      "ll2, vv = inverse_iteration(A,np.ones(3),mu)\n",
      "ll3, vv = rayleigh_quotient_iteration(A,np.ones(3))\n",
      "plt.semilogy(np.abs(ll1-lam))\n",
      "plt.semilogy(np.abs(ll2-lam))\n",
      "plt.semilogy(np.abs(ll3-lam))\n",
      "plt.legend(['Power','Inverse','Rayleigh'],loc='best')"
     ],
     "language": "python",
     "metadata": {},
     "outputs": []
    },
    {
     "cell_type": "markdown",
     "metadata": {},
     "source": [
      "Now let's try a non-symmetric matrix (but with distinct real eigenvalues)."
     ]
    },
    {
     "cell_type": "code",
     "collapsed": false,
     "input": [
      "A = np.array([[2.,5.,1],[1,3,1],[1,1,4]])\n",
      "print np.linalg.eigvals(A)\n",
      "lam = np.linalg.eigvals(A)[0]"
     ],
     "language": "python",
     "metadata": {},
     "outputs": []
    },
    {
     "cell_type": "code",
     "collapsed": false,
     "input": [
      "ll1, vv = power_iteration(A,np.ones(3))\n",
      "ll2, vv = inverse_iteration(A,np.ones(3),5.)\n",
      "ll3, vv = rayleigh_quotient_iteration(A,np.ones(3))\n",
      "plt.semilogy(np.abs(ll1-lam))\n",
      "plt.semilogy(np.abs(ll2-lam))\n",
      "plt.semilogy(np.abs(ll3-lam))\n",
      "plt.legend(['Power','Inverse','Rayleigh'],loc='best')"
     ],
     "language": "python",
     "metadata": {},
     "outputs": []
    },
    {
     "cell_type": "code",
     "collapsed": false,
     "input": [],
     "language": "python",
     "metadata": {},
     "outputs": []
    },
    {
     "cell_type": "code",
     "collapsed": false,
     "input": [],
     "language": "python",
     "metadata": {},
     "outputs": []
    },
    {
     "cell_type": "code",
     "collapsed": false,
     "input": [
      "c = 0.2201\n",
      "A = np.array([[0,c],[1./c,0]])\n",
      "np.linalg.eigvals(A)"
     ],
     "language": "python",
     "metadata": {},
     "outputs": []
    },
    {
     "cell_type": "code",
     "collapsed": false,
     "input": [
      "v0 = np.array([-0.4,0.5])\n",
      "ll, vv = rayleigh_quotient_iteration(A,v0)"
     ],
     "language": "python",
     "metadata": {},
     "outputs": []
    }
   ],
   "metadata": {}
  }
 ]
}