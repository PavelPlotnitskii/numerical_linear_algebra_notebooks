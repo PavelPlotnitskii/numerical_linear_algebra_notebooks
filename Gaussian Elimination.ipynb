{
 "cells": [
  {
   "cell_type": "code",
   "execution_count": null,
   "metadata": {
    "collapsed": false
   },
   "outputs": [],
   "source": [
    "%matplotlib inline\n",
    "import numpy as np"
   ]
  },
  {
   "cell_type": "markdown",
   "metadata": {},
   "source": [
    "# Gaussian elimination"
   ]
  },
  {
   "cell_type": "markdown",
   "metadata": {},
   "source": [
    "Here is an implementation of Gaussian elimination without pivoting."
   ]
  },
  {
   "cell_type": "code",
   "execution_count": null,
   "metadata": {
    "collapsed": false
   },
   "outputs": [],
   "source": [
    "def LU(A):\n",
    "    \"\"\"Factor a square matrix A into triangular matrices L, U via Gaussian elimination.\"\"\"\n",
    "    m = A.shape[0]\n",
    "    U = A.copy()\n",
    "    L = np.eye(m)\n",
    "    for j in range(m):\n",
    "        for i in range(j+1,m):\n",
    "            L[i,j] = U[i,j]/U[j,j]\n",
    "            U[i,:] = U[i,:] - L[i,j]*U[j,:]\n",
    "    return L, U"
   ]
  },
  {
   "cell_type": "markdown",
   "metadata": {},
   "source": [
    "Let's test it on a $3 \\times 3$ matrix:"
   ]
  },
  {
   "cell_type": "code",
   "execution_count": null,
   "metadata": {
    "collapsed": false
   },
   "outputs": [],
   "source": [
    "A = np.array([[1.,2,1],[2,5,3],[1,4,9]])\n",
    "L, U = LU(A)\n",
    "print L\n",
    "print U"
   ]
  },
  {
   "cell_type": "markdown",
   "metadata": {},
   "source": [
    "The factors are triangular, as desired.  Does their product give $A$?"
   ]
  },
  {
   "cell_type": "code",
   "execution_count": null,
   "metadata": {
    "collapsed": false
   },
   "outputs": [],
   "source": [
    "A-np.dot(L,U)"
   ]
  },
  {
   "cell_type": "markdown",
   "metadata": {},
   "source": [
    "Yes, it does.\n",
    "\n",
    "Next, let us investigate backward stability of this algorithm.  If Gaussian elimination is backward stable, then our computed factors $L, U$ should satisfy\n",
    "\n",
    "$$LU = A + \\delta A$$\n",
    "\n",
    "for some matrix $\\delta A$ such that $\\|\\delta A\\|/\\|A\\| \\approx \\epsilon_{machine} \\approx 10^{-16}$.  In other words, we should have\n",
    "\n",
    "$$\\frac{\\|LU - A \\|}{\\|A\\|} \\approx 10^{-16}.$$\n",
    "\n",
    "The following code computes this quantity for 100 random matrices of size $50 \\times 50$, and stops if it finds one that substantially violates the condition above."
   ]
  },
  {
   "cell_type": "code",
   "execution_count": null,
   "metadata": {
    "collapsed": false
   },
   "outputs": [],
   "source": [
    "m = 50\n",
    "for i in range(100):\n",
    "    A = np.random.randn(m,m)\n",
    "    L, U = LU(A)\n",
    "    rel_err = np.linalg.norm(A-np.dot(L,U))/np.linalg.norm(A)\n",
    "    if rel_err > 1e-14:\n",
    "        print rel_err\n",
    "        print \"Random matrix \"+str(i+1)+\" produced a backward error of \" + str(rel_err)\n",
    "        break"
   ]
  },
  {
   "cell_type": "markdown",
   "metadata": {},
   "source": [
    "Play around with the tolerance and the matrix size above.\n",
    "\n",
    "Clearly, Gaussian elimination (without pivoting) is not backward stable."
   ]
  },
  {
   "cell_type": "markdown",
   "metadata": {},
   "source": [
    "# Partial pivoting"
   ]
  },
  {
   "cell_type": "markdown",
   "metadata": {},
   "source": [
    "What goes wrong in Gaussian elimination?  Sometimes, the diagonal entry in the next column is very small.  That means that the multipliers used to cancel the remaining entries in that column will be very large, leading to an amplification of roundoff errors.  This can be alleviated via *pivoting*, which means choosing the largest entry in the next column and moving it to the diagonal.\n",
    "\n",
    "Here is an implementation of Gaussian Elimination with partial pivoting."
   ]
  },
  {
   "cell_type": "code",
   "execution_count": null,
   "metadata": {
    "collapsed": false
   },
   "outputs": [],
   "source": [
    "def PLU(A):\n",
    "    \"\"\"Factor a square matrix via Gaussian elimination with partial pivoting.\"\"\"\n",
    "    m = A.shape[0]\n",
    "    U = A.copy()\n",
    "    L = np.eye(m)\n",
    "    P = np.eye(m)\n",
    "    for j in range(m):\n",
    "        ii = np.argmax(np.abs(U[j:,j]))+j\n",
    "        #temp = U[j,:].copy(); U[j,:] = U[ii,:]; U[ii,:] = temp # This would also work.\n",
    "        U[[j,ii],:] = U[[ii,j],:]  # Swap two rows via advanced slicing!\n",
    "        P[[j,ii],:] = P[[ii,j],:]\n",
    "        L[[j,ii],:j] = L[[ii,j],:j]\n",
    "        \n",
    "        for i in range(j+1,m):\n",
    "            L[i,j] = U[i,j]/U[j,j]\n",
    "            U[i,:] = U[i,:] - L[i,j]*U[j,:]\n",
    "    return P, L, U"
   ]
  },
  {
   "cell_type": "markdown",
   "metadata": {},
   "source": [
    "Let's check that it works:"
   ]
  },
  {
   "cell_type": "code",
   "execution_count": null,
   "metadata": {
    "collapsed": false
   },
   "outputs": [],
   "source": [
    "A = np.array([[1.,2,1],[2,5,3],[1,4,9]])\n",
    "P, L, U = PLU(A)\n",
    "print L\n",
    "print U\n",
    "print P"
   ]
  },
  {
   "cell_type": "markdown",
   "metadata": {},
   "source": [
    "The outputs should satisfy $PA = LU$:"
   ]
  },
  {
   "cell_type": "code",
   "execution_count": null,
   "metadata": {
    "collapsed": false
   },
   "outputs": [],
   "source": [
    "print np.dot(P,A)\n",
    "print np.dot(L,U)"
   ]
  },
  {
   "cell_type": "markdown",
   "metadata": {},
   "source": [
    "Now, lets see how large the backward error is with pivoting:"
   ]
  },
  {
   "cell_type": "code",
   "execution_count": null,
   "metadata": {
    "collapsed": false
   },
   "outputs": [],
   "source": [
    "m = 100\n",
    "all_rel_errs = []\n",
    "for i in range(100):\n",
    "    A = np.random.randn(m,m)\n",
    "    P, L, U = PLU(A)\n",
    "    rel_err = np.linalg.norm(np.dot(P,A)-np.dot(L,U))/np.linalg.norm(A)\n",
    "    all_rel_errs.append(rel_err)\n",
    "    if rel_err > 1e-15:\n",
    "        print rel_err\n",
    "        print i\n",
    "        break"
   ]
  },
  {
   "cell_type": "code",
   "execution_count": null,
   "metadata": {
    "collapsed": false
   },
   "outputs": [],
   "source": [
    "print np.max(np.array(rel_err))"
   ]
  },
  {
   "cell_type": "markdown",
   "metadata": {},
   "source": [
    "# A final example"
   ]
  },
  {
   "cell_type": "code",
   "execution_count": null,
   "metadata": {
    "collapsed": false
   },
   "outputs": [],
   "source": [
    "m = 60\n",
    "A = np.zeros((m,m))\n",
    "for i in range(m):\n",
    "    for j in range(m):\n",
    "        if i==j:\n",
    "            A[i,j] = 1.\n",
    "        elif i>j:\n",
    "            A[i,j] = -1.\n",
    "        elif j==m-1:\n",
    "            A[i,j] = 1."
   ]
  },
  {
   "cell_type": "code",
   "execution_count": null,
   "metadata": {
    "collapsed": false
   },
   "outputs": [],
   "source": [
    "P, L, U = PLU(A)\n",
    "np.linalg.norm(np.dot(P,A)-np.dot(L,U))/np.linalg.norm(A)"
   ]
  }
 ],
 "metadata": {
  "kernelspec": {
   "display_name": "Python 2",
   "language": "python",
   "name": "python2"
  },
  "language_info": {
   "codemirror_mode": {
    "name": "ipython",
    "version": 2
   },
   "file_extension": ".py",
   "mimetype": "text/x-python",
   "name": "python",
   "nbconvert_exporter": "python",
   "pygments_lexer": "ipython2",
   "version": "2.7.9"
  }
 },
 "nbformat": 4,
 "nbformat_minor": 0
}
