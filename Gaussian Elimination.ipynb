{
 "metadata": {
  "name": "",
  "signature": "sha256:6215cfe0931d0c597a18588dee49f714ba5d87f184fe0c1ffda3818122b8486e"
 },
 "nbformat": 3,
 "nbformat_minor": 0,
 "worksheets": [
  {
   "cells": [
    {
     "cell_type": "code",
     "collapsed": false,
     "input": [
      "%matplotlib inline\n",
      "import numpy as np"
     ],
     "language": "python",
     "metadata": {},
     "outputs": []
    },
    {
     "cell_type": "heading",
     "level": 1,
     "metadata": {},
     "source": [
      "Gaussian elimination"
     ]
    },
    {
     "cell_type": "markdown",
     "metadata": {},
     "source": [
      "Here is an implementation of Gaussian elimination without pivoting."
     ]
    },
    {
     "cell_type": "code",
     "collapsed": false,
     "input": [
      "def LU(A):\n",
      "    \"\"\"Factor a square matrix A into triangular matrices L, U via Gaussian elimination.\"\"\"\n",
      "    m = A.shape[0]\n",
      "    U = A.copy()\n",
      "    L = np.eye(m)\n",
      "    for j in range(m):\n",
      "        for i in range(j+1,m):\n",
      "            L[i,j] = U[i,j]/U[j,j]\n",
      "            U[i,:] = U[i,:] - L[i,j]*U[j,:]\n",
      "    return L, U"
     ],
     "language": "python",
     "metadata": {},
     "outputs": []
    },
    {
     "cell_type": "markdown",
     "metadata": {},
     "source": [
      "Let's test it on a $3 \\times 3$ matrix:"
     ]
    },
    {
     "cell_type": "code",
     "collapsed": false,
     "input": [
      "A = np.array([[1.,2,1],[2,5,3],[1,4,9]])\n",
      "L, U = LU(A)\n",
      "print L\n",
      "print U"
     ],
     "language": "python",
     "metadata": {},
     "outputs": []
    },
    {
     "cell_type": "markdown",
     "metadata": {},
     "source": [
      "The factors are triangular, as desired.  Does their product give $A$?"
     ]
    },
    {
     "cell_type": "code",
     "collapsed": false,
     "input": [
      "A-np.dot(L,U)"
     ],
     "language": "python",
     "metadata": {},
     "outputs": []
    },
    {
     "cell_type": "markdown",
     "metadata": {},
     "source": [
      "Yes, it does.\n",
      "\n",
      "Next, let us investigate backward stability of this algorithm.  If Gaussian elimination is backward stable, then our computed factors $L, U$ should satisfy\n",
      "\n",
      "$$LU = A + \\delta A$$\n",
      "\n",
      "for some matrix $\\delta A$ such that $\\|\\delta A\\|/\\|A\\| \\approx \\epsilon_{machine} \\approx 10^{-16}$.  In other words, we should have\n",
      "\n",
      "$$\\frac{\\|LU - A \\|}{\\|A\\|} \\approx 10^{-16}.$$\n",
      "\n",
      "The following code computes this quantity for 100 random matrices of size $50 \\times 50$, and stops if it finds one that substantially violates the condition above."
     ]
    },
    {
     "cell_type": "code",
     "collapsed": false,
     "input": [
      "m = 50\n",
      "for i in range(100):\n",
      "    A = np.random.randn(m,m)\n",
      "    L, U = LU(A)\n",
      "    rel_err = np.linalg.norm(A-np.dot(L,U))/np.linalg.norm(A)\n",
      "    if rel_err > 1e-11:\n",
      "        print rel_err\n",
      "        print i\n",
      "        break"
     ],
     "language": "python",
     "metadata": {},
     "outputs": []
    },
    {
     "cell_type": "markdown",
     "metadata": {},
     "source": [
      "Clearly, Gaussian elimination (without pivoting) is not backward stable."
     ]
    },
    {
     "cell_type": "heading",
     "level": 1,
     "metadata": {},
     "source": [
      "Partial pivoting"
     ]
    },
    {
     "cell_type": "code",
     "collapsed": false,
     "input": [
      "def PLU(A):\n",
      "    \"\"\"Factor a square matrix via Gaussian elimination with partial pivoting\"\"\"\n",
      "    m = A.shape[0]\n",
      "    U = A.copy()\n",
      "    L = np.eye(m)\n",
      "    P = np.eye(m)\n",
      "    for j in range(m):\n",
      "        ii = np.argmax(np.abs(U[j:,j]))+j\n",
      "        #temp = U[j,:].copy(); U[j,:] = U[ii,:]; U[ii,:] = temp # This would also work.\n",
      "        U[[j,ii],:] = U[[ii,j],:]  # Swap two rows via advanced slicing!\n",
      "        P[[j,ii],:] = P[[ii,j],:]\n",
      "        L[[j,ii],:j] = L[[ii,j],:j]\n",
      "        \n",
      "        for i in range(j+1,m):\n",
      "            L[i,j] = U[i,j]/U[j,j]\n",
      "            U[i,:] = U[i,:] - L[i,j]*U[j,:]\n",
      "    return P, L, U"
     ],
     "language": "python",
     "metadata": {},
     "outputs": []
    },
    {
     "cell_type": "code",
     "collapsed": false,
     "input": [
      "A = np.array([[1.,2,1],[2,5,3],[1,4,9]])\n",
      "P,L, U = PLU(A)\n",
      "print L\n",
      "print U\n",
      "print P"
     ],
     "language": "python",
     "metadata": {},
     "outputs": []
    },
    {
     "cell_type": "code",
     "collapsed": false,
     "input": [
      "print np.dot(P,A)\n",
      "print np.dot(L,U)"
     ],
     "language": "python",
     "metadata": {},
     "outputs": []
    },
    {
     "cell_type": "code",
     "collapsed": false,
     "input": [
      "m = 100\n",
      "rel_err = []\n",
      "for i in range(100):\n",
      "    A = np.random.randn(m,m)\n",
      "    P, L, U = PLU(A)\n",
      "    rel_err.append(np.linalg.norm(np.dot(P,A)-np.dot(L,U))/np.linalg.norm(A))\n",
      "    #if rel_err > 1e-15:\n",
      "    #    print rel_err\n",
      "    #    print i\n",
      "    #    break\n",
      "print np.max(np.array(rel_err))"
     ],
     "language": "python",
     "metadata": {},
     "outputs": []
    },
    {
     "cell_type": "code",
     "collapsed": false,
     "input": [],
     "language": "python",
     "metadata": {},
     "outputs": []
    }
   ],
   "metadata": {}
  }
 ]
}