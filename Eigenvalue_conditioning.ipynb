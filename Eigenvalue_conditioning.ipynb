{
 "metadata": {
  "name": "",
  "signature": "sha256:63c7eab0c6b8aee3e180ef11dddca021c6ce9555323352c904039978fe74aed7"
 },
 "nbformat": 3,
 "nbformat_minor": 0,
 "worksheets": [
  {
   "cells": [
    {
     "cell_type": "code",
     "collapsed": false,
     "input": [
      "%matplotlib inline\n",
      "import matplotlib.pyplot as plt\n",
      "import numpy as np"
     ],
     "language": "python",
     "metadata": {},
     "outputs": []
    },
    {
     "cell_type": "heading",
     "level": 1,
     "metadata": {},
     "source": [
      "Conditioning of eigenvalue problems"
     ]
    },
    {
     "cell_type": "markdown",
     "metadata": {},
     "source": [
      "The condition of an eigenvalue problem depends strongly on whether the matrix in question is normal.  Let's consider a simple non-normal matrix given by \n",
      "\n",
      "$$tridiag(1/4,0,1).$$\n",
      "\n",
      "This example is discussed in section 3 of [Spectra and Pseudospectra](http://pup.princeton.edu/titles/8113.html) by Trefethen & Embree."
     ]
    },
    {
     "cell_type": "code",
     "collapsed": false,
     "input": [
      "m=32\n",
      "v1 = np.ones(m-1)\n",
      "A = np.diag(v1,1)+np.diag(0.25*v1,-1)\n",
      "v2 = 2**np.arange(1,m+1)\n",
      "D = np.diag(v2)\n",
      "Dinv = np.diag(1./v2)"
     ],
     "language": "python",
     "metadata": {},
     "outputs": []
    },
    {
     "cell_type": "markdown",
     "metadata": {},
     "source": [
      "The eigenvalues of this matrix are simply\n",
      "\n",
      "$$\\lambda_k = \\cos\\left(\\frac{k\\pi}{m+1}\\right).$$"
     ]
    },
    {
     "cell_type": "code",
     "collapsed": false,
     "input": [
      "lamda = np.linalg.eigvals(A)\n",
      "plt.plot(np.real(lamda),np.imag(lamda),'o');"
     ],
     "language": "python",
     "metadata": {},
     "outputs": []
    },
    {
     "cell_type": "markdown",
     "metadata": {},
     "source": [
      "To investigate conditioning, we perturb $A$ by random matrices with norm $10^{-5}$ and compute the eigenvalues of the resulting matrices."
     ]
    },
    {
     "cell_type": "code",
     "collapsed": false,
     "input": [
      "lamda = np.linalg.eigvals(A)\n",
      "plt.plot(np.real(lamda),np.imag(lamda),'ko')\n",
      "\n",
      "for i in range(10):\n",
      "    E = np.random.randn(m,m)\n",
      "    E = E/np.linalg.norm(E) * 1.e-5\n",
      "    lamda = np.linalg.eigvals(A+E)\n",
      "    plt.plot(np.real(lamda),np.imag(lamda),'rs')"
     ],
     "language": "python",
     "metadata": {},
     "outputs": []
    },
    {
     "cell_type": "markdown",
     "metadata": {},
     "source": [
      "Clearly, the eigenvalues are perturbed by a much larger amount!    In fact, you might be rightly suspicious of whether we computed the eigenvalues of $A$ itself correctly in the first place (the answer is that we did, but if you increase $m$ above to 256 you'll see that roundoff errors lead to large errors in the eigenvalues)."
     ]
    },
    {
     "cell_type": "code",
     "collapsed": false,
     "input": [
      "W,V = np.linalg.eig(A)"
     ],
     "language": "python",
     "metadata": {},
     "outputs": []
    },
    {
     "cell_type": "code",
     "collapsed": false,
     "input": [
      "np.log10(np.linalg.cond(V))"
     ],
     "language": "python",
     "metadata": {},
     "outputs": []
    },
    {
     "cell_type": "code",
     "collapsed": false,
     "input": [
      "B=np.dot(D,np.dot(A,Dinv))\n",
      "lamda = np.linalg.eigvals(A)\n",
      "plt.plot(np.real(lamda),np.imag(lamda),'o');"
     ],
     "language": "python",
     "metadata": {},
     "outputs": []
    },
    {
     "cell_type": "code",
     "collapsed": false,
     "input": [
      "lamda = np.linalg.eigvals(B)\n",
      "plt.plot(np.real(lamda),np.imag(lamda),'ko')\n",
      "\n",
      "for i in range(10):\n",
      "    E = np.random.randn(m,m)\n",
      "    E = E/np.linalg.norm(E) * 1.e-5\n",
      "    lamda = np.linalg.eigvals(B+E)\n",
      "    plt.plot(np.real(lamda),np.imag(lamda),'rs')"
     ],
     "language": "python",
     "metadata": {},
     "outputs": []
    },
    {
     "cell_type": "code",
     "collapsed": false,
     "input": [],
     "language": "python",
     "metadata": {},
     "outputs": []
    }
   ],
   "metadata": {}
  }
 ]
}