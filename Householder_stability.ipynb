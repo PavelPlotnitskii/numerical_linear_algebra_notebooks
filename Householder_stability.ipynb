{
 "metadata": {
  "name": "",
  "signature": "sha256:f50e66bc66ec42af21cb8713eabee94d73384d3dfddc8e03f48a07ccf1c9acc6"
 },
 "nbformat": 3,
 "nbformat_minor": 0,
 "worksheets": [
  {
   "cells": [
    {
     "cell_type": "code",
     "collapsed": false,
     "input": [
      "import numpy as np"
     ],
     "language": "python",
     "metadata": {},
     "outputs": [],
     "prompt_number": 7
    },
    {
     "cell_type": "code",
     "collapsed": false,
     "input": [
      "def householder(A):\n",
      "    \"\"\"QR factorization via Householder triangularization.\"\"\"\n",
      "    m, n = A.shape\n",
      "    V = np.zeros(A.shape)\n",
      "    R = A.copy()\n",
      "    for k in range(n-1):\n",
      "        x = R[k:,k].copy()\n",
      "        x[0] = x[0] + np.sign(x[0])*np.linalg.norm(x,2)\n",
      "        x = x/np.linalg.norm(x,2)\n",
      "        V[k:,k] = x.copy()\n",
      "        for j in range(k,n):\n",
      "            R[k:,j] = R[k:,j] - 2*V[k:,k]*np.dot(V[k:,k].T,R[k:,j])\n",
      "    return V,R[:n,:]\n",
      "\n",
      "def apply_Q(V,x):\n",
      "    \"\"\"Algorithm 10.3 of Trefethen & Bau.\"\"\"\n",
      "    m, n = V.shape\n",
      "    for k in range(n-1,-1,-1):\n",
      "        x[k:] = x[k:] - 2*np.dot(V[k:,k],x[k:])*V[k:,k]\n",
      "    return x\n",
      "\n",
      "def compute_Q(V):\n",
      "    m, n = V.shape\n",
      "    Q = np.zeros((m,n))\n",
      "    for k in range(n):\n",
      "        x = np.zeros(m)\n",
      "        x[k] = 1.\n",
      "        Q[:,k] = apply_Q(V,x)\n",
      "    return Q"
     ],
     "language": "python",
     "metadata": {},
     "outputs": [],
     "prompt_number": 8
    },
    {
     "cell_type": "code",
     "collapsed": false,
     "input": [
      "N = 40\n",
      "R = np.triu(np.random.randn(N,N))\n",
      "Q, X = np.linalg.qr(np.random.randn(N,N))\n",
      "A = np.dot(Q,R)"
     ],
     "language": "python",
     "metadata": {},
     "outputs": [],
     "prompt_number": 52
    },
    {
     "cell_type": "code",
     "collapsed": true,
     "input": [
      "Q2, R2 = np.linalg.qr(A)\n",
      "#V, R2 = householder(A)\n",
      "#Q2 = compute_Q(V)"
     ],
     "language": "python",
     "metadata": {},
     "outputs": [],
     "prompt_number": 53
    },
    {
     "cell_type": "code",
     "collapsed": false,
     "input": [
      "for i in range(Q2.shape[1]):\n",
      "    if Q2[0,i]*Q[0,i] < 0:\n",
      "        Q2[:,i] = -Q2[:,i]\n",
      "        R2[i,:] = -R2[i,:]"
     ],
     "language": "python",
     "metadata": {},
     "outputs": [],
     "prompt_number": 54
    },
    {
     "cell_type": "code",
     "collapsed": false,
     "input": [
      "print np.linalg.norm(Q-Q2)\n",
      "print np.linalg.norm(R-R2)"
     ],
     "language": "python",
     "metadata": {},
     "outputs": [
      {
       "output_type": "stream",
       "stream": "stdout",
       "text": [
        "0.000160727144367\n",
        "0.000189811738393\n"
       ]
      }
     ],
     "prompt_number": 56
    },
    {
     "cell_type": "code",
     "collapsed": false,
     "input": [
      "print np.linalg.cond(A)"
     ],
     "language": "python",
     "metadata": {},
     "outputs": [
      {
       "output_type": "stream",
       "stream": "stdout",
       "text": [
        "2.80943159734e+14\n"
       ]
      }
     ],
     "prompt_number": 57
    },
    {
     "cell_type": "code",
     "collapsed": false,
     "input": [
      "A2 = np.dot(Q2,R2)\n",
      "np.linalg.norm(A-A2)"
     ],
     "language": "python",
     "metadata": {},
     "outputs": [
      {
       "metadata": {},
       "output_type": "pyout",
       "prompt_number": 58,
       "text": [
        "2.1272890105680869e-14"
       ]
      }
     ],
     "prompt_number": 58
    },
    {
     "cell_type": "code",
     "collapsed": false,
     "input": [
      "Q3 = Q + 1e-4*np.random.randn(N,N)\n",
      "R3 = R + 1e-4*np.random.randn(N,N)\n",
      "A3 = np.dot(Q3,R3)\n",
      "print np.linalg.norm(A-A3)"
     ],
     "language": "python",
     "metadata": {},
     "outputs": [
      {
       "output_type": "stream",
       "stream": "stdout",
       "text": [
        "0.0193868679899\n"
       ]
      }
     ],
     "prompt_number": 59
    },
    {
     "cell_type": "code",
     "collapsed": false,
     "input": [
      "kappa = np.linalg.cond(A)\n",
      "np.log10(kappa)"
     ],
     "language": "python",
     "metadata": {},
     "outputs": [
      {
       "metadata": {},
       "output_type": "pyout",
       "prompt_number": 60,
       "text": [
        "14.448618462571661"
       ]
      }
     ],
     "prompt_number": 60
    },
    {
     "cell_type": "code",
     "collapsed": false,
     "input": [],
     "language": "python",
     "metadata": {},
     "outputs": []
    }
   ],
   "metadata": {}
  }
 ]
}